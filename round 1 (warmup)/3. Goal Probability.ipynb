{
 "cells": [
  {
   "attachments": {},
   "cell_type": "markdown",
   "metadata": {},
   "source": [
    "# Codecup Competition Series 7: Data Science | Part 3\n",
    "\n",
    "## Author: Arash Hajian nezhad\n",
    "---"
   ]
  },
  {
   "attachments": {},
   "cell_type": "markdown",
   "metadata": {},
   "source": [
    "#### Imports\n"
   ]
  },
  {
   "cell_type": "code",
   "execution_count": null,
   "metadata": {},
   "outputs": [],
   "source": [
    "import numpy as np\n",
    "import pandas as pd\n",
    "import optuna\n",
    "\n",
    "from sklearn.model_selection import train_test_split\n",
    "\n",
    "from catboost import CatBoostClassifier, Pool, cv"
   ]
  },
  {
   "attachments": {},
   "cell_type": "markdown",
   "metadata": {},
   "source": [
    "#### Data loading"
   ]
  },
  {
   "cell_type": "code",
   "execution_count": null,
   "metadata": {},
   "outputs": [],
   "source": [
    "df = pd.read_csv('data/tsubasa/train.csv')\n",
    "print(df['outcome'].unique())\n",
    "print(df.head())"
   ]
  },
  {
   "attachments": {},
   "cell_type": "markdown",
   "metadata": {},
   "source": [
    "#### Encode outcome column values:\n",
    "- 0 -> (not goal)\n",
    "- 1 -> (goal)"
   ]
  },
  {
   "cell_type": "code",
   "execution_count": null,
   "metadata": {},
   "outputs": [],
   "source": [
    "replace_dict = {\n",
    "    'گُل': 1,\n",
    "    'گُل به خودی': 1,\n",
    "    'مهار توسط دروازه بان': 0,\n",
    "    'موقعیت از دست رفته': 0,\n",
    "    'برخورد به دفاع': 0,\n",
    "    'برخورد به تیردروازه': 0,\n",
    "}\n",
    "df.replace({'outcome': replace_dict}, inplace=True)\n",
    "df.head()"
   ]
  },
  {
   "attachments": {},
   "cell_type": "markdown",
   "metadata": {},
   "source": [
    "#### Feature Engineering: Creating spatial categories based on (x, y)"
   ]
  },
  {
   "cell_type": "code",
   "execution_count": null,
   "metadata": {},
   "outputs": [],
   "source": [
    "def engineer_shooting_position(df: pd.DataFrame, offset_from_end: int) -> pd.DataFrame:\n",
    "    conditions = [\n",
    "        (df['x'] <= 5.5) & (df['y'] >= 0) & (df['y'] <= 5.5),\n",
    "        (df['x'] <= 5.5) & (df['y'] < 0) & (df['y'] >= -5.5),\n",
    "        (df['x'] > 5.5) & (df['x'] <= 16.5) & (df['y'] >= 0) & (df['y'] <= 20.15),\n",
    "        (df['x'] > 5.5) & (df['x'] <= 16.5) & (df['y'] < 0) & (df['y'] >= -20.15),\n",
    "        (df['x'] == 11) & (df['y'] == 0),  # penalty\n",
    "        (df['x'] >= 0) & (df['x'] <= 27) & (df['y'] >= 0),\n",
    "        (df['x'] >= 0) & (df['x'] <= 27) & (df['y'] < 0),\n",
    "        (df['x'] > 27) & (df['y'] >= 0),\n",
    "        (df['x'] > 27) & (df['y'] < 0),\n",
    "    ]\n",
    "\n",
    "    positions = [\n",
    "        'pos_1',\n",
    "        'pos_2',\n",
    "        'pos_3',\n",
    "        'pos_4',\n",
    "        'pos_5',\n",
    "        'pos_6',\n",
    "        'pos_7',\n",
    "        'pos_8',\n",
    "        'pos_9',\n",
    "    ]\n",
    "\n",
    "    df['shootingPosition'] = np.select(conditions, positions)\n",
    "\n",
    "    # move the column before the label column (for catboost categorical column specification)\n",
    "    df.insert(len(df.columns) - offset_from_end, 'shootingPosition', df.pop('shootingPosition'))\n",
    "    \n",
    "    return df\n",
    "\n",
    "df = engineer_shooting_position(df, 2)"
   ]
  },
  {
   "attachments": {},
   "cell_type": "markdown",
   "metadata": {},
   "source": [
    "#### Drop the id clomuns and the _now_ redundant (x, y) and minute columns"
   ]
  },
  {
   "cell_type": "code",
   "execution_count": null,
   "metadata": {},
   "outputs": [],
   "source": [
    "df.drop(['matchId', 'playerId', 'second', 'x', 'y', 'minute'], axis=1, inplace=True)"
   ]
  },
  {
   "attachments": {},
   "cell_type": "markdown",
   "metadata": {},
   "source": [
    "#### Fill `nan` values inside `interferenceOnShooter` column"
   ]
  },
  {
   "cell_type": "code",
   "execution_count": null,
   "metadata": {},
   "outputs": [],
   "source": [
    "df['interferenceOnShooter'].fillna('نامشخص', inplace=True)"
   ]
  },
  {
   "attachments": {},
   "cell_type": "markdown",
   "metadata": {},
   "source": [
    "#### Specifying categorical indices for use in CatBoost"
   ]
  },
  {
   "cell_type": "code",
   "execution_count": null,
   "metadata": {},
   "outputs": [],
   "source": [
    "categorical_features_indices = (0, 1, 4, 5)"
   ]
  },
  {
   "attachments": {},
   "cell_type": "markdown",
   "metadata": {},
   "source": [
    "#### Label seperation & Data splitting for training & validation"
   ]
  },
  {
   "cell_type": "code",
   "execution_count": null,
   "metadata": {},
   "outputs": [],
   "source": [
    "X = df.drop('outcome', axis=1)\n",
    "y = df['outcome']\n",
    "\n",
    "X_train, X_validation, y_train, y_validation = train_test_split(X, y, train_size=0.85, shuffle=True)"
   ]
  },
  {
   "attachments": {},
   "cell_type": "markdown",
   "metadata": {},
   "source": [
    "#### `CatBoost` model hyperparameters tuning using `Optuna`"
   ]
  },
  {
   "cell_type": "code",
   "execution_count": null,
   "metadata": {},
   "outputs": [],
   "source": [
    "def optuna_objective(trial):\n",
    "    hyperparameters = {\n",
    "        'l2_leaf_reg': trial.suggest_int('l2_leaf_reg', 2, 50, log=True),\n",
    "        'learning_rate': trial.suggest_float('learning_rate', 0.001, 0.2),\n",
    "        'colsample_bylevel': trial.suggest_float('colsample_bylevel', 0.01, 0.1),  # can't use with GPU training / CPU only\n",
    "        'depth': trial.suggest_int('depth', 1, 12),\n",
    "        'boosting_type': trial.suggest_categorical('boosting_type', ['Ordered', 'Plain']),\n",
    "        'bootstrap_type': trial.suggest_categorical(\n",
    "            'bootstrap_type', ['Bayesian', 'Bernoulli', 'MVS']\n",
    "        ),\n",
    "\n",
    "        # constant variables\n",
    "        'iterations': 500,\n",
    "        'verbose': False,\n",
    "        'eval_metric': 'Accuracy',\n",
    "        'use_best_model': True,\n",
    "        'objective': 'Logloss',\n",
    "        'loss_function': 'Logloss',\n",
    "        # 'task_type': 'GPU',  # can't use with cross-validation\n",
    "    }\n",
    "\n",
    "    if hyperparameters['bootstrap_type'] == 'Bayesian':\n",
    "        hyperparameters.update({'bagging_temperature': trial.suggest_float('bagging_temperature', 0, 10)})\n",
    "    elif hyperparameters['bootstrap_type'] == 'Bernoulli':\n",
    "        hyperparameters.update({'subsample': trial.suggest_float('subsample', 0.1, 1)})\n",
    "\n",
    "    model = CatBoostClassifier(**hyperparameters)\n",
    "    \n",
    "    cv_data = cv(\n",
    "        Pool(X, y, cat_features=categorical_features_indices),\n",
    "        model.get_params(),\n",
    "        logging_level='Silent',\n",
    "        plot=False,\n",
    "    )\n",
    "    \n",
    "    best_accuracy = np.max(cv_data['test-Accuracy-mean'])\n",
    "    \n",
    "    return best_accuracy  # as we use optuna's `maximize` direction\n",
    "\n",
    "\n",
    "study = optuna.create_study(direction='maximize')\n",
    "study.optimize(optuna_objective, n_trials=2)"
   ]
  },
  {
   "attachments": {},
   "cell_type": "markdown",
   "metadata": {},
   "source": [
    "#### Getting optimization results"
   ]
  },
  {
   "cell_type": "code",
   "execution_count": null,
   "metadata": {},
   "outputs": [],
   "source": [
    "print('Number of Trials successfully finished: ', len(study.trials))\n",
    "\n",
    "best_trial = study.best_trial\n",
    "print('Best Trial\\'s score:', best_trial.value)\n",
    "\n",
    "best_hyperparams = best_trial.params\n",
    "print('Best hyperparameters:', best_hyperparams)"
   ]
  },
  {
   "attachments": {},
   "cell_type": "markdown",
   "metadata": {},
   "source": [
    "#### Cross-Validation using the best hyperparameters obtained from `Optuna`"
   ]
  },
  {
   "cell_type": "code",
   "execution_count": null,
   "metadata": {},
   "outputs": [],
   "source": [
    "best_hyperparams.update({\n",
    "        'iterations': 500,\n",
    "        'verbose': False,\n",
    "        'eval_metric': 'Accuracy',\n",
    "        'use_best_model': True,\n",
    "        'loss_function': 'Logloss',\n",
    "})\n",
    "\n",
    "model = CatBoostClassifier(**best_hyperparams)\n",
    "\n",
    "cv_data = cv(\n",
    "        Pool(X, y, cat_features=categorical_features_indices),\n",
    "        model.get_params(),\n",
    "        plot=False,\n",
    ")"
   ]
  },
  {
   "attachments": {},
   "cell_type": "markdown",
   "metadata": {},
   "source": [
    "#### Creating data pools and Training the model"
   ]
  },
  {
   "cell_type": "code",
   "execution_count": null,
   "metadata": {},
   "outputs": [],
   "source": [
    "train_pool = Pool(X_train, y_train, cat_features=categorical_features_indices)\n",
    "validation_pool = Pool(X_validation, y_validation, cat_features=categorical_features_indices)\n",
    "\n",
    "model.fit(X=train_pool, eval_set=validation_pool, plot=False)"
   ]
  },
  {
   "attachments": {},
   "cell_type": "markdown",
   "metadata": {},
   "source": [
    "#### Generating output for the competition"
   ]
  },
  {
   "cell_type": "code",
   "execution_count": null,
   "metadata": {},
   "outputs": [],
   "source": [
    "# Load test (competition) dataset\n",
    "comp_df = pd.read_csv('data/tsubasa/test.csv')\n",
    "\n",
    "# Rearrange columns for the same representation as the train dataset\n",
    "comp_df.insert(8, 'minute', comp_df.pop('minute'))\n",
    "comp_df.insert(8, 'second', comp_df.pop('second'))\n",
    "\n",
    "# Apply same feature engineering as the training phase\n",
    "comp_df = engineer_shooting_position(comp_df, 1)\n",
    "\n",
    "# drop unwanted columns\n",
    "comp_df.drop(['x', 'y', 'second', 'minute'], axis=1, inplace=True)\n",
    "\n",
    "# Fill `nan` values inside `interferenceOnShooter` column\n",
    "comp_df['interferenceOnShooter'].fillna('نامشخص', inplace=True)\n",
    "\n",
    "# Get prediction\n",
    "prediction_probs = model.predict_proba(comp_df)\n",
    "prediction = pd.DataFrame([pred[1] for pred in prediction_probs], columns=['prediction'])\n",
    "\n",
    "# Saving the output\n",
    "prediction.to_csv('question_3fe_output.csv', index=False)"
   ]
  }
 ],
 "metadata": {
  "kernelspec": {
   "display_name": "general",
   "language": "python",
   "name": "python3"
  },
  "language_info": {
   "name": "python",
   "version": "3.10.8 | packaged by conda-forge | (main, Nov 22 2022, 08:16:33) [MSC v.1929 64 bit (AMD64)]"
  },
  "orig_nbformat": 4,
  "vscode": {
   "interpreter": {
    "hash": "4140408fc13e4207736e2d7f35b320a40f1438f760a0813258b1ef669f9ceb46"
   }
  }
 },
 "nbformat": 4,
 "nbformat_minor": 2
}
