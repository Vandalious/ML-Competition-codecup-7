{
 "cells": [
  {
   "attachments": {},
   "cell_type": "markdown",
   "metadata": {},
   "source": [
    "# Codecup Competition Series 7: Data Science | Part 2\n",
    "\n",
    "## Author: Arash Hajian nezhad\n",
    "---"
   ]
  },
  {
   "attachments": {},
   "cell_type": "markdown",
   "metadata": {},
   "source": [
    "#### Imports"
   ]
  },
  {
   "cell_type": "code",
   "execution_count": null,
   "metadata": {},
   "outputs": [],
   "source": [
    "import pandas as pd"
   ]
  },
  {
   "attachments": {},
   "cell_type": "markdown",
   "metadata": {},
   "source": [
    "#### Data loading"
   ]
  },
  {
   "cell_type": "code",
   "execution_count": null,
   "metadata": {},
   "outputs": [],
   "source": [
    "output = ''\n",
    "df = pd.read_csv('data/travel_insurance/train.csv')"
   ]
  },
  {
   "attachments": {},
   "cell_type": "markdown",
   "metadata": {},
   "source": [
    "#### Question 1\n",
    "##### Get the `rows` and `columns` counts of the dataset. (seperated by space)"
   ]
  },
  {
   "cell_type": "code",
   "execution_count": null,
   "metadata": {},
   "outputs": [],
   "source": [
    "answer = f'{len(df)} {len(df.columns)}'\n",
    "output += f'{answer}\\n'\n",
    "print(answer)"
   ]
  },
  {
   "attachments": {},
   "cell_type": "markdown",
   "metadata": {},
   "source": [
    "#### Question 2\n",
    "##### What is the `average annual income` of the customers? (just the integer part)"
   ]
  },
  {
   "cell_type": "code",
   "execution_count": null,
   "metadata": {},
   "outputs": [],
   "source": [
    "answer = f'{int(df[\"AnnualIncome\"].mean())}'\n",
    "output += f'{answer}\\n'\n",
    "print(int(df['AnnualIncome'].mean()))"
   ]
  },
  {
   "attachments": {},
   "cell_type": "markdown",
   "metadata": {},
   "source": [
    "#### Question 3\n",
    "##### How many customers have ever `travelled abroad`?"
   ]
  },
  {
   "cell_type": "code",
   "execution_count": null,
   "metadata": {},
   "outputs": [],
   "source": [
    "answer = f'{len(df[df[\"EverTravelledAbroad\"] == \"Yes\"])}'\n",
    "output += f'{answer}\\n'\n",
    "print(len(df[df['EverTravelledAbroad'] == 'Yes']))"
   ]
  },
  {
   "attachments": {},
   "cell_type": "markdown",
   "metadata": {},
   "source": [
    "#### Question 4\n",
    "##### Determine whether most of the customers are `Self-employed`, or work at a `Government Sector`. Show the percentage of it as well."
   ]
  },
  {
   "cell_type": "code",
   "execution_count": null,
   "metadata": {},
   "outputs": [],
   "source": [
    "types = df['Employment Type'].value_counts().index.to_list()\n",
    "counts = df['Employment Type'].value_counts(normalize=True).to_list()\n",
    "\n",
    "max_type = ''\n",
    "max_count = 0\n",
    "for i, j in zip(types, counts):\n",
    "    if j > max_count:\n",
    "        max_type = i\n",
    "        max_count = round(j * 100, 2)\n",
    "\n",
    "answer = f'{max_type} {max_count:.2f}'\n",
    "output += f'{answer}\\n'\n",
    "print(answer)"
   ]
  },
  {
   "attachments": {},
   "cell_type": "markdown",
   "metadata": {},
   "source": [
    "#### Question 5\n",
    "##### Out of the customers having `chronic disease`, what percentage of them have `travel insurance`?"
   ]
  },
  {
   "cell_type": "code",
   "execution_count": null,
   "metadata": {},
   "outputs": [],
   "source": [
    "chronic_and_travelinsurance_count = len(df.query('ChronicDiseases == 1 and TravelInsurance == \"Yes\"'))\n",
    "total = len(df[df['ChronicDiseases'] == 1])\n",
    "\n",
    "percentage = round((chronic_and_travelinsurance_count / total) * 100, 2)\n",
    "\n",
    "answer = f'{percentage:.2f}'\n",
    "output += answer\n",
    "print(answer)"
   ]
  },
  {
   "attachments": {},
   "cell_type": "markdown",
   "metadata": {},
   "source": [
    "#### Saving the output file"
   ]
  },
  {
   "cell_type": "code",
   "execution_count": null,
   "metadata": {},
   "outputs": [],
   "source": [
    "with open('question_2_output.txt', 'w') as file:\n",
    "    file.write(output)"
   ]
  }
 ],
 "metadata": {
  "kernelspec": {
   "display_name": "general",
   "language": "python",
   "name": "python3"
  },
  "language_info": {
   "name": "python",
   "version": "3.10.8 | packaged by conda-forge | (main, Nov 22 2022, 08:16:33) [MSC v.1929 64 bit (AMD64)]"
  },
  "orig_nbformat": 4,
  "vscode": {
   "interpreter": {
    "hash": "4140408fc13e4207736e2d7f35b320a40f1438f760a0813258b1ef669f9ceb46"
   }
  }
 },
 "nbformat": 4,
 "nbformat_minor": 2
}
